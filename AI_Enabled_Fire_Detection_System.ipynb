{
  "cells": [
    {
      "cell_type": "code",
      "execution_count": null,
      "metadata": {
        "colab": {
          "base_uri": "https://localhost:8080/"
        },
        "id": "19D3N5kP4t4t",
        "outputId": "de9ed3d1-2d6d-4976-e87d-cefc0cc1c004"
      },
      "outputs": [
        {
          "name": "stdout",
          "output_type": "stream",
          "text": [
            "[]\n"
          ]
        }
      ],
      "source": [
        "#import packages\n",
        "\n",
        "import numpy as np\n",
        "import tensorflow as tf\n",
        "\n",
        "from tensorflow.keras.applications import vgg16, resnet50\n",
        "from tensorflow.keras.layers import Dense, Flatten, Dropout\n",
        "from tensorflow.keras.models import Model, load_model\n",
        "from tensorflow.keras.optimizers import SGD, Adam, RMSprop\n",
        "from tensorflow.keras.regularizers import l1, l2, l1_l2\n",
        "from tensorflow.keras.callbacks import LearningRateScheduler, ModelCheckpoint, TensorBoard\n",
        "\n",
        "from sklearn.model_selection import train_test_split\n",
        "import matplotlib.pyplot as plt\n",
        "\n",
        "print(tf.config.list_physical_devices(\"GPU\"))"
      ]
    },
    {
      "cell_type": "code",
      "execution_count": null,
      "metadata": {
        "colab": {
          "base_uri": "https://localhost:8080/"
        },
        "id": "4SvqdYuENGO3",
        "outputId": "c5fd6d5a-1e31-4c0f-a030-f84f4354a7bf"
      },
      "outputs": [
        {
          "name": "stdout",
          "output_type": "stream",
          "text": [
            "Mounted at /content/drive\n"
          ]
        }
      ],
      "source": [
        "#mount drive to import data\n",
        "\n",
        "from google.colab import drive  #to import drive\n",
        "drive.mount('/content/drive')"
      ]
    },
    {
      "cell_type": "code",
      "execution_count": null,
      "metadata": {
        "id": "nGy--js8GvsK"
      },
      "outputs": [],
      "source": [
        "#set train dataset: images and labels\n",
        "\n",
        "from PIL import Image\n",
        "import os\n",
        "# Set the directories for the two classes\n",
        "class1_dir = \"/content/drive/MyDrive/dataset/FIRE-SMOKE-DATASET/Train/Fire\"\n",
        "class3_dir = \"/content/drive/MyDrive/dataset/FIRE-SMOKE-DATASET/Train/Neutral\"\n",
        "\n",
        "# Set the image size\n",
        "image_size = (128,128)\n",
        "\n",
        "# Set the list of file extensions to include\n",
        "extensions = [\".jpg\"]\n",
        "\n",
        "# Initialize the lists of images and labels\n",
        "images = []\n",
        "labels = []\n",
        "\n",
        "# Load the data from the first class\n",
        "for filename in os.listdir(class1_dir):\n",
        "    if any(filename.lower().endswith(ext) for ext in extensions):\n",
        "        img_path = os.path.join(class1_dir, filename)\n",
        "        with Image.open(img_path) as img:\n",
        "            img = img.convert(\"RGB\")\n",
        "            img = img.resize(image_size)\n",
        "            img = np.array(img)\n",
        "            images.append(img)\n",
        "            labels.append(1)\n",
        "\n",
        "\n",
        "# Load the data from the second class\n",
        "for filename in os.listdir(class3_dir):\n",
        "    if any(filename.lower().endswith(ext) for ext in extensions):\n",
        "        img_path = os.path.join(class3_dir, filename)\n",
        "        with Image.open(img_path) as img:\n",
        "            img = img.convert(\"RGB\")\n",
        "            img = img.resize(image_size)\n",
        "            img = np.array(img)\n",
        "            images.append(img)\n",
        "            labels.append(0)\n",
        "\n",
        "# Convert the lists of images and labels to numpy arrays\n",
        "x_train = np.array(images)\n",
        "y_train = np.array(labels)"
      ]
    },
    {
      "cell_type": "code",
      "execution_count": null,
      "metadata": {
        "id": "c4kbQ8zWmau8"
      },
      "outputs": [],
      "source": [
        "#set test dataset: images and labels\n",
        "\n",
        "# Set the directories for the two classes\n",
        "class1_dir = \"/content/drive/MyDrive/dataset/FIRE-SMOKE-DATASET/Test/Fire\"\n",
        "class3_dir = \"/content/drive/MyDrive/dataset/FIRE-SMOKE-DATASET/Test/Neutral\"\n",
        "\n",
        "# Set the image size\n",
        "image_size = (128,128)\n",
        "\n",
        "# Set the list of file extensions to include\n",
        "extensions = [\".jpg\"]\n",
        "\n",
        "# Initialize the lists of images and labels\n",
        "images = []\n",
        "labels = []\n",
        "\n",
        "# Load the data from the first class\n",
        "for filename in os.listdir(class1_dir):\n",
        "    if any(filename.lower().endswith(ext) for ext in extensions):\n",
        "        img_path = os.path.join(class1_dir, filename)\n",
        "        with Image.open(img_path) as img:\n",
        "            img = img.convert(\"RGB\")\n",
        "            img = img.resize(image_size)\n",
        "            img = np.array(img)\n",
        "            images.append(img)\n",
        "            labels.append(1)\n",
        "\n",
        "# Load the data from the second class\n",
        "for filename in os.listdir(class3_dir):\n",
        "    if any(filename.lower().endswith(ext) for ext in extensions):\n",
        "        img_path = os.path.join(class3_dir, filename)\n",
        "        with Image.open(img_path) as img:\n",
        "            img = img.convert(\"RGB\")\n",
        "            img = img.resize(image_size)\n",
        "            img = np.array(img)\n",
        "            images.append(img)\n",
        "            labels.append(0)\n",
        "\n",
        "# Convert the lists of images and labels to numpy arrays\n",
        "x_test = np.array(images)\n",
        "y_test = np.array(labels)\n"
      ]
    },
    {
      "cell_type": "code",
      "execution_count": null,
      "metadata": {
        "colab": {
          "base_uri": "https://localhost:8080/"
        },
        "id": "iH8IMjyT4_Ea",
        "outputId": "a10ff829-4547-4b74-81e7-3a1d9ce62ae8"
      },
      "outputs": [
        {
          "output_type": "stream",
          "name": "stdout",
          "text": [
            "Number of train images 1440\n",
            "Number of test images 200\n",
            "Number of val images 360\n",
            "Number of classes 2\n",
            "Image size (128, 128, 3)\n"
          ]
        }
      ],
      "source": [
        "#splitting dataset\n",
        "\n",
        "# Using the \"train_test_split\" sklearn function in order to split the train dataset into train/validation subsets\n",
        "x_train, x_val, y_train, y_val = train_test_split(x_train, y_train, test_size=0.2, random_state=0, shuffle=True)\n",
        "\n",
        "train_shape = x_train.shape\n",
        "test_shape = x_test.shape\n",
        "val_shape = x_val.shape\n",
        "\n",
        "num_classes = np.max(y_test) + 1\n",
        "\n",
        "print(\"Number of train images\", train_shape[0])\n",
        "print(\"Number of test images\", test_shape[0])\n",
        "print(\"Number of val images\", val_shape[0])\n",
        "print(\"Number of classes\", num_classes)\n",
        "print(\"Image size\", train_shape[1:])"
      ]
    },
    {
      "cell_type": "code",
      "execution_count": null,
      "metadata": {
        "id": "QTEIl01LrVWh"
      },
      "outputs": [],
      "source": [
        "#data normalization\n",
        "\n",
        "x_train = x_train / 255.0\n",
        "x_test = x_test / 255.0\n",
        "x_val = x_val / 255.0"
      ]
    },
    {
      "cell_type": "code",
      "execution_count": null,
      "metadata": {
        "id": "PhNreQ_NsR2l"
      },
      "outputs": [],
      "source": [
        "##setting hyperparameters\n",
        "\n",
        "batch_size = 128\n",
        "epochs = 40\n",
        "learning_rate = 0.1\n",
        "lr_decay = 0.1"
      ]
    },
    {
      "cell_type": "code",
      "execution_count": null,
      "metadata": {
        "id": "-VNEoWyfsXF3"
      },
      "outputs": [],
      "source": [
        "#Step decay\n",
        "def step_decay(epoch):\n",
        "\n",
        "    lr = learning_rate\n",
        "    if epoch > 30:\n",
        "        lr = lr * lr_decay**3\n",
        "    elif epoch > 20:\n",
        "        lr = lr * lr_decay**2   \n",
        "    elif epoch > 10:\n",
        "        lr = lr * lr_decay\n",
        "\n",
        "    return lr\n",
        "\n",
        "#Exponential decay\n",
        "def exp_decay(epoch):\n",
        "    \n",
        "    lr = learning_rate * np.exp(-lr_decay * epoch)\n",
        "\n",
        "    return lr"
      ]
    },
    {
      "cell_type": "code",
      "execution_count": null,
      "metadata": {
        "id": "-y6I__RPrbKI"
      },
      "outputs": [],
      "source": [
        "#Transfer learning of VGG16 pretrained model\n",
        "vgg16_model = vgg16.VGG16(input_shape = (128, 128, 3), include_top = False, weights = \"imagenet\")"
      ]
    },
    {
      "cell_type": "code",
      "execution_count": null,
      "metadata": {
        "id": "c6aj70yqrvsr"
      },
      "outputs": [],
      "source": [
        "#model building using tf.keras.Model\n",
        "\n",
        "def classification_layers(model):\n",
        "  x = Flatten()(model.layers[-1].output)\n",
        "  x = Dense(2, activation = 'softmax')(x)\n",
        "  return x"
      ]
    },
    {
      "cell_type": "code",
      "execution_count": null,
      "metadata": {
        "colab": {
          "base_uri": "https://localhost:8080/"
        },
        "id": "ILQTFrPVrg99",
        "outputId": "89e89889-224c-4107-b03e-30f9ee8e0e09"
      },
      "outputs": [
        {
          "output_type": "stream",
          "name": "stdout",
          "text": [
            "Model: \"model_1\"\n",
            "_________________________________________________________________\n",
            " Layer (type)                Output Shape              Param #   \n",
            "=================================================================\n",
            " input_2 (InputLayer)        [(None, 128, 128, 3)]     0         \n",
            "                                                                 \n",
            " block1_conv1 (Conv2D)       (None, 128, 128, 64)      1792      \n",
            "                                                                 \n",
            " block1_conv2 (Conv2D)       (None, 128, 128, 64)      36928     \n",
            "                                                                 \n",
            " block1_pool (MaxPooling2D)  (None, 64, 64, 64)        0         \n",
            "                                                                 \n",
            " block2_conv1 (Conv2D)       (None, 64, 64, 128)       73856     \n",
            "                                                                 \n",
            " block2_conv2 (Conv2D)       (None, 64, 64, 128)       147584    \n",
            "                                                                 \n",
            " block2_pool (MaxPooling2D)  (None, 32, 32, 128)       0         \n",
            "                                                                 \n",
            " block3_conv1 (Conv2D)       (None, 32, 32, 256)       295168    \n",
            "                                                                 \n",
            " block3_conv2 (Conv2D)       (None, 32, 32, 256)       590080    \n",
            "                                                                 \n",
            " block3_conv3 (Conv2D)       (None, 32, 32, 256)       590080    \n",
            "                                                                 \n",
            " block3_pool (MaxPooling2D)  (None, 16, 16, 256)       0         \n",
            "                                                                 \n",
            " block4_conv1 (Conv2D)       (None, 16, 16, 512)       1180160   \n",
            "                                                                 \n",
            " block4_conv2 (Conv2D)       (None, 16, 16, 512)       2359808   \n",
            "                                                                 \n",
            " block4_conv3 (Conv2D)       (None, 16, 16, 512)       2359808   \n",
            "                                                                 \n",
            " block4_pool (MaxPooling2D)  (None, 8, 8, 512)         0         \n",
            "                                                                 \n",
            " block5_conv1 (Conv2D)       (None, 8, 8, 512)         2359808   \n",
            "                                                                 \n",
            " block5_conv2 (Conv2D)       (None, 8, 8, 512)         2359808   \n",
            "                                                                 \n",
            " block5_conv3 (Conv2D)       (None, 8, 8, 512)         2359808   \n",
            "                                                                 \n",
            " block5_pool (MaxPooling2D)  (None, 4, 4, 512)         0         \n",
            "                                                                 \n",
            " flatten_1 (Flatten)         (None, 8192)              0         \n",
            "                                                                 \n",
            " dense_1 (Dense)             (None, 2)                 16386     \n",
            "                                                                 \n",
            "=================================================================\n",
            "Total params: 14,731,074\n",
            "Trainable params: 14,731,074\n",
            "Non-trainable params: 0\n",
            "_________________________________________________________________\n"
          ]
        }
      ],
      "source": [
        "output = classification_layers(vgg16_model)\n",
        "\n",
        "TLmodel = Model(inputs = vgg16_model.input, outputs = output)\n",
        "\n",
        "TLmodel.summary()"
      ]
    },
    {
      "cell_type": "code",
      "execution_count": null,
      "metadata": {
        "id": "ESPU_3ZZr1as"
      },
      "outputs": [],
      "source": [
        "#Freezing the Conv layers\n",
        "for layer in TLmodel.layers:\n",
        "  if isinstance(layer, Dense):\n",
        "    break\n",
        "  layer.trainable = False"
      ]
    },
    {
      "cell_type": "code",
      "execution_count": null,
      "metadata": {
        "id": "hNmYMlfEsJF3"
      },
      "outputs": [],
      "source": [
        "#Optimizer and loss function\n",
        "\n",
        "loss = \"SparseCategoricalCrossentropy\"\n",
        "\n",
        "opt = SGD(learning_rate=learning_rate)\n",
        "\n",
        "TLmodel.compile(optimizer=opt, loss = loss, metrics = [\"accuracy\"])\n",
        "\n",
        "TL_model_name = \"vgg16_transferlearning\"\n",
        "\n",
        "lr_scheduler = LearningRateScheduler(step_decay, verbose=1)\n",
        "checkpoint = ModelCheckpoint(filepath=\"./saved_models/{}.hdf5\".format(TL_model_name), save_best_only=True, monitor=\"val_accuracy\", verbose=1)\n",
        "callbacks = [lr_scheduler, checkpoint]"
      ]
    },
    {
      "cell_type": "code",
      "execution_count": null,
      "metadata": {
        "colab": {
          "base_uri": "https://localhost:8080/"
        },
        "id": "9aS4bq7zsigY",
        "outputId": "80020684-2a5d-4db2-cae5-28ef41db591b"
      },
      "outputs": [
        {
          "output_type": "stream",
          "name": "stdout",
          "text": [
            "\n",
            "Epoch 1: LearningRateScheduler setting learning rate to 0.1.\n",
            "Epoch 1/40\n",
            "12/12 [==============================] - ETA: 0s - loss: 46.4147 - accuracy: 0.5000 \n",
            "Epoch 1: val_accuracy improved from -inf to 0.48333, saving model to ./saved_models/vgg16_transferlearning.hdf5\n",
            "12/12 [==============================] - 267s 22s/step - loss: 46.4147 - accuracy: 0.5000 - val_loss: 49.1299 - val_accuracy: 0.4833 - lr: 0.1000\n",
            "\n",
            "Epoch 2: LearningRateScheduler setting learning rate to 0.1.\n",
            "Epoch 2/40\n",
            "12/12 [==============================] - ETA: 0s - loss: 36.9275 - accuracy: 0.5063 \n",
            "Epoch 2: val_accuracy did not improve from 0.48333\n",
            "12/12 [==============================] - 261s 22s/step - loss: 36.9275 - accuracy: 0.5063 - val_loss: 60.6915 - val_accuracy: 0.4833 - lr: 0.1000\n",
            "\n",
            "Epoch 3: LearningRateScheduler setting learning rate to 0.1.\n",
            "Epoch 3/40\n",
            "12/12 [==============================] - ETA: 0s - loss: 19.2834 - accuracy: 0.6403 \n",
            "Epoch 3: val_accuracy improved from 0.48333 to 0.82778, saving model to ./saved_models/vgg16_transferlearning.hdf5\n",
            "12/12 [==============================] - 265s 22s/step - loss: 19.2834 - accuracy: 0.6403 - val_loss: 6.5987 - val_accuracy: 0.8278 - lr: 0.1000\n",
            "\n",
            "Epoch 4: LearningRateScheduler setting learning rate to 0.1.\n",
            "Epoch 4/40\n",
            "12/12 [==============================] - ETA: 0s - loss: 2.4645 - accuracy: 0.8972 \n",
            "Epoch 4: val_accuracy improved from 0.82778 to 0.85833, saving model to ./saved_models/vgg16_transferlearning.hdf5\n",
            "12/12 [==============================] - 260s 22s/step - loss: 2.4645 - accuracy: 0.8972 - val_loss: 4.1689 - val_accuracy: 0.8583 - lr: 0.1000\n",
            "\n",
            "Epoch 5: LearningRateScheduler setting learning rate to 0.1.\n",
            "Epoch 5/40\n",
            "12/12 [==============================] - ETA: 0s - loss: 2.1814 - accuracy: 0.9007 \n",
            "Epoch 5: val_accuracy improved from 0.85833 to 0.88611, saving model to ./saved_models/vgg16_transferlearning.hdf5\n",
            "12/12 [==============================] - 295s 25s/step - loss: 2.1814 - accuracy: 0.9007 - val_loss: 2.6420 - val_accuracy: 0.8861 - lr: 0.1000\n",
            "\n",
            "Epoch 6: LearningRateScheduler setting learning rate to 0.1.\n",
            "Epoch 6/40\n",
            "12/12 [==============================] - ETA: 0s - loss: 1.8720 - accuracy: 0.9160 \n",
            "Epoch 6: val_accuracy improved from 0.88611 to 0.88889, saving model to ./saved_models/vgg16_transferlearning.hdf5\n",
            "12/12 [==============================] - 262s 22s/step - loss: 1.8720 - accuracy: 0.9160 - val_loss: 3.0686 - val_accuracy: 0.8889 - lr: 0.1000\n",
            "\n",
            "Epoch 7: LearningRateScheduler setting learning rate to 0.1.\n",
            "Epoch 7/40\n",
            "12/12 [==============================] - ETA: 0s - loss: 1.4388 - accuracy: 0.9243 \n",
            "Epoch 7: val_accuracy improved from 0.88889 to 0.89722, saving model to ./saved_models/vgg16_transferlearning.hdf5\n",
            "12/12 [==============================] - 261s 22s/step - loss: 1.4388 - accuracy: 0.9243 - val_loss: 1.8775 - val_accuracy: 0.8972 - lr: 0.1000\n",
            "\n",
            "Epoch 8: LearningRateScheduler setting learning rate to 0.1.\n",
            "Epoch 8/40\n",
            "12/12 [==============================] - ETA: 0s - loss: 1.5240 - accuracy: 0.9153 \n",
            "Epoch 8: val_accuracy did not improve from 0.89722\n",
            "12/12 [==============================] - 261s 22s/step - loss: 1.5240 - accuracy: 0.9153 - val_loss: 1.9768 - val_accuracy: 0.8944 - lr: 0.1000\n",
            "\n",
            "Epoch 9: LearningRateScheduler setting learning rate to 0.1.\n",
            "Epoch 9/40\n",
            "12/12 [==============================] - ETA: 0s - loss: 1.1235 - accuracy: 0.9271 \n",
            "Epoch 9: val_accuracy improved from 0.89722 to 0.91667, saving model to ./saved_models/vgg16_transferlearning.hdf5\n",
            "12/12 [==============================] - 262s 22s/step - loss: 1.1235 - accuracy: 0.9271 - val_loss: 1.3776 - val_accuracy: 0.9167 - lr: 0.1000\n",
            "\n",
            "Epoch 10: LearningRateScheduler setting learning rate to 0.1.\n",
            "Epoch 10/40\n",
            "12/12 [==============================] - ETA: 0s - loss: 1.0681 - accuracy: 0.9368 \n",
            "Epoch 10: val_accuracy improved from 0.91667 to 0.91944, saving model to ./saved_models/vgg16_transferlearning.hdf5\n",
            "12/12 [==============================] - 260s 22s/step - loss: 1.0681 - accuracy: 0.9368 - val_loss: 1.1767 - val_accuracy: 0.9194 - lr: 0.1000\n",
            "\n",
            "Epoch 11: LearningRateScheduler setting learning rate to 0.1.\n",
            "Epoch 11/40\n",
            "12/12 [==============================] - ETA: 0s - loss: 0.9842 - accuracy: 0.9375 \n",
            "Epoch 11: val_accuracy did not improve from 0.91944\n",
            "12/12 [==============================] - 261s 22s/step - loss: 0.9842 - accuracy: 0.9375 - val_loss: 1.2806 - val_accuracy: 0.9194 - lr: 0.1000\n",
            "\n",
            "Epoch 12: LearningRateScheduler setting learning rate to 0.010000000000000002.\n",
            "Epoch 12/40\n",
            "12/12 [==============================] - ETA: 0s - loss: 0.6771 - accuracy: 0.9528 \n",
            "Epoch 12: val_accuracy improved from 0.91944 to 0.92222, saving model to ./saved_models/vgg16_transferlearning.hdf5\n",
            "12/12 [==============================] - 262s 22s/step - loss: 0.6771 - accuracy: 0.9528 - val_loss: 1.1921 - val_accuracy: 0.9222 - lr: 0.0100\n",
            "\n",
            "Epoch 13: LearningRateScheduler setting learning rate to 0.010000000000000002.\n",
            "Epoch 13/40\n",
            "12/12 [==============================] - ETA: 0s - loss: 0.6620 - accuracy: 0.9535 \n",
            "Epoch 13: val_accuracy did not improve from 0.92222\n",
            "12/12 [==============================] - 260s 22s/step - loss: 0.6620 - accuracy: 0.9535 - val_loss: 1.2696 - val_accuracy: 0.9222 - lr: 0.0100\n",
            "\n",
            "Epoch 14: LearningRateScheduler setting learning rate to 0.010000000000000002.\n",
            "Epoch 14/40\n",
            "12/12 [==============================] - ETA: 0s - loss: 0.6683 - accuracy: 0.9528 \n",
            "Epoch 14: val_accuracy did not improve from 0.92222\n",
            "12/12 [==============================] - 264s 22s/step - loss: 0.6683 - accuracy: 0.9528 - val_loss: 1.2128 - val_accuracy: 0.9222 - lr: 0.0100\n",
            "\n",
            "Epoch 15: LearningRateScheduler setting learning rate to 0.010000000000000002.\n",
            "Epoch 15/40\n",
            "12/12 [==============================] - ETA: 0s - loss: 0.6482 - accuracy: 0.9542 \n",
            "Epoch 15: val_accuracy improved from 0.92222 to 0.93056, saving model to ./saved_models/vgg16_transferlearning.hdf5\n",
            "12/12 [==============================] - 261s 22s/step - loss: 0.6482 - accuracy: 0.9542 - val_loss: 1.1125 - val_accuracy: 0.9306 - lr: 0.0100\n",
            "\n",
            "Epoch 16: LearningRateScheduler setting learning rate to 0.010000000000000002.\n",
            "Epoch 16/40\n",
            "12/12 [==============================] - ETA: 0s - loss: 0.6420 - accuracy: 0.9535 \n",
            "Epoch 16: val_accuracy did not improve from 0.93056\n",
            "12/12 [==============================] - 260s 22s/step - loss: 0.6420 - accuracy: 0.9535 - val_loss: 1.2071 - val_accuracy: 0.9222 - lr: 0.0100\n",
            "\n",
            "Epoch 17: LearningRateScheduler setting learning rate to 0.010000000000000002.\n",
            "Epoch 17/40\n",
            "12/12 [==============================] - ETA: 0s - loss: 0.6364 - accuracy: 0.9535 \n",
            "Epoch 17: val_accuracy did not improve from 0.93056\n",
            "12/12 [==============================] - 262s 22s/step - loss: 0.6364 - accuracy: 0.9535 - val_loss: 1.1658 - val_accuracy: 0.9222 - lr: 0.0100\n",
            "\n",
            "Epoch 18: LearningRateScheduler setting learning rate to 0.010000000000000002.\n",
            "Epoch 18/40\n",
            "12/12 [==============================] - ETA: 0s - loss: 0.6244 - accuracy: 0.9528 \n",
            "Epoch 18: val_accuracy did not improve from 0.93056\n",
            "12/12 [==============================] - 260s 22s/step - loss: 0.6244 - accuracy: 0.9528 - val_loss: 1.1455 - val_accuracy: 0.9250 - lr: 0.0100\n",
            "\n",
            "Epoch 19: LearningRateScheduler setting learning rate to 0.010000000000000002.\n",
            "Epoch 19/40\n",
            "12/12 [==============================] - ETA: 0s - loss: 0.6202 - accuracy: 0.9556 \n",
            "Epoch 19: val_accuracy did not improve from 0.93056\n",
            "12/12 [==============================] - 261s 22s/step - loss: 0.6202 - accuracy: 0.9556 - val_loss: 1.0468 - val_accuracy: 0.9250 - lr: 0.0100\n",
            "\n",
            "Epoch 20: LearningRateScheduler setting learning rate to 0.010000000000000002.\n",
            "Epoch 20/40\n",
            "12/12 [==============================] - ETA: 0s - loss: 0.6167 - accuracy: 0.9549 \n",
            "Epoch 20: val_accuracy did not improve from 0.93056\n",
            "12/12 [==============================] - 261s 22s/step - loss: 0.6167 - accuracy: 0.9549 - val_loss: 1.1384 - val_accuracy: 0.9250 - lr: 0.0100\n",
            "\n",
            "Epoch 21: LearningRateScheduler setting learning rate to 0.010000000000000002.\n",
            "Epoch 21/40\n",
            "12/12 [==============================] - ETA: 0s - loss: 0.6021 - accuracy: 0.9556 \n",
            "Epoch 21: val_accuracy did not improve from 0.93056\n",
            "12/12 [==============================] - 260s 22s/step - loss: 0.6021 - accuracy: 0.9556 - val_loss: 1.1077 - val_accuracy: 0.9250 - lr: 0.0100\n",
            "\n",
            "Epoch 22: LearningRateScheduler setting learning rate to 0.0010000000000000002.\n",
            "Epoch 22/40\n",
            "12/12 [==============================] - ETA: 0s - loss: 0.5946 - accuracy: 0.9563 \n",
            "Epoch 22: val_accuracy did not improve from 0.93056\n",
            "12/12 [==============================] - 262s 22s/step - loss: 0.5946 - accuracy: 0.9563 - val_loss: 1.1147 - val_accuracy: 0.9250 - lr: 0.0010\n",
            "\n",
            "Epoch 23: LearningRateScheduler setting learning rate to 0.0010000000000000002.\n",
            "Epoch 23/40\n",
            "12/12 [==============================] - ETA: 0s - loss: 0.5936 - accuracy: 0.9563 \n",
            "Epoch 23: val_accuracy did not improve from 0.93056\n",
            "12/12 [==============================] - 261s 22s/step - loss: 0.5936 - accuracy: 0.9563 - val_loss: 1.1188 - val_accuracy: 0.9250 - lr: 0.0010\n",
            "\n",
            "Epoch 24: LearningRateScheduler setting learning rate to 0.0010000000000000002.\n",
            "Epoch 24/40\n",
            "12/12 [==============================] - ETA: 0s - loss: 0.5929 - accuracy: 0.9556 \n",
            "Epoch 24: val_accuracy did not improve from 0.93056\n",
            "12/12 [==============================] - 292s 25s/step - loss: 0.5929 - accuracy: 0.9556 - val_loss: 1.1246 - val_accuracy: 0.9250 - lr: 0.0010\n",
            "\n",
            "Epoch 25: LearningRateScheduler setting learning rate to 0.0010000000000000002.\n",
            "Epoch 25/40\n",
            "12/12 [==============================] - ETA: 0s - loss: 0.5918 - accuracy: 0.9549 \n",
            "Epoch 25: val_accuracy did not improve from 0.93056\n",
            "12/12 [==============================] - 261s 22s/step - loss: 0.5918 - accuracy: 0.9549 - val_loss: 1.1292 - val_accuracy: 0.9250 - lr: 0.0010\n",
            "\n",
            "Epoch 26: LearningRateScheduler setting learning rate to 0.0010000000000000002.\n",
            "Epoch 26/40\n",
            "12/12 [==============================] - ETA: 0s - loss: 0.5906 - accuracy: 0.9563 \n",
            "Epoch 26: val_accuracy did not improve from 0.93056\n",
            "12/12 [==============================] - 263s 22s/step - loss: 0.5906 - accuracy: 0.9563 - val_loss: 1.1301 - val_accuracy: 0.9278 - lr: 0.0010\n",
            "\n",
            "Epoch 27: LearningRateScheduler setting learning rate to 0.0010000000000000002.\n",
            "Epoch 27/40\n",
            "12/12 [==============================] - ETA: 0s - loss: 0.5903 - accuracy: 0.9549 \n",
            "Epoch 27: val_accuracy did not improve from 0.93056\n",
            "12/12 [==============================] - 262s 22s/step - loss: 0.5903 - accuracy: 0.9549 - val_loss: 1.1306 - val_accuracy: 0.9278 - lr: 0.0010\n",
            "\n",
            "Epoch 28: LearningRateScheduler setting learning rate to 0.0010000000000000002.\n",
            "Epoch 28/40\n",
            "12/12 [==============================] - ETA: 0s - loss: 0.5890 - accuracy: 0.9549 \n",
            "Epoch 28: val_accuracy did not improve from 0.93056\n",
            "12/12 [==============================] - 261s 22s/step - loss: 0.5890 - accuracy: 0.9549 - val_loss: 1.1250 - val_accuracy: 0.9250 - lr: 0.0010\n",
            "\n",
            "Epoch 29: LearningRateScheduler setting learning rate to 0.0010000000000000002.\n",
            "Epoch 29/40\n",
            "12/12 [==============================] - ETA: 0s - loss: 0.5886 - accuracy: 0.9549 \n",
            "Epoch 29: val_accuracy did not improve from 0.93056\n",
            "12/12 [==============================] - 262s 22s/step - loss: 0.5886 - accuracy: 0.9549 - val_loss: 1.1255 - val_accuracy: 0.9250 - lr: 0.0010\n",
            "\n",
            "Epoch 30: LearningRateScheduler setting learning rate to 0.0010000000000000002.\n",
            "Epoch 30/40\n",
            "12/12 [==============================] - ETA: 0s - loss: 0.5876 - accuracy: 0.9549 \n",
            "Epoch 30: val_accuracy did not improve from 0.93056\n",
            "12/12 [==============================] - 293s 25s/step - loss: 0.5876 - accuracy: 0.9549 - val_loss: 1.1295 - val_accuracy: 0.9278 - lr: 0.0010\n",
            "\n",
            "Epoch 31: LearningRateScheduler setting learning rate to 0.0010000000000000002.\n",
            "Epoch 31/40\n",
            "12/12 [==============================] - ETA: 0s - loss: 0.5870 - accuracy: 0.9549 \n",
            "Epoch 31: val_accuracy did not improve from 0.93056\n",
            "12/12 [==============================] - 262s 22s/step - loss: 0.5870 - accuracy: 0.9549 - val_loss: 1.1331 - val_accuracy: 0.9278 - lr: 0.0010\n",
            "\n",
            "Epoch 32: LearningRateScheduler setting learning rate to 0.00010000000000000003.\n",
            "Epoch 32/40\n",
            "12/12 [==============================] - ETA: 0s - loss: 0.5862 - accuracy: 0.9563 \n",
            "Epoch 32: val_accuracy did not improve from 0.93056\n",
            "12/12 [==============================] - 265s 22s/step - loss: 0.5862 - accuracy: 0.9563 - val_loss: 1.1322 - val_accuracy: 0.9278 - lr: 1.0000e-04\n",
            "\n",
            "Epoch 33: LearningRateScheduler setting learning rate to 0.00010000000000000003.\n",
            "Epoch 33/40\n",
            "12/12 [==============================] - ETA: 0s - loss: 0.5861 - accuracy: 0.9556 \n",
            "Epoch 33: val_accuracy did not improve from 0.93056\n",
            "12/12 [==============================] - 262s 22s/step - loss: 0.5861 - accuracy: 0.9556 - val_loss: 1.1321 - val_accuracy: 0.9278 - lr: 1.0000e-04\n",
            "\n",
            "Epoch 34: LearningRateScheduler setting learning rate to 0.00010000000000000003.\n",
            "Epoch 34/40\n",
            "12/12 [==============================] - ETA: 0s - loss: 0.5860 - accuracy: 0.9556 \n",
            "Epoch 34: val_accuracy did not improve from 0.93056\n",
            "12/12 [==============================] - 261s 22s/step - loss: 0.5860 - accuracy: 0.9556 - val_loss: 1.1320 - val_accuracy: 0.9278 - lr: 1.0000e-04\n",
            "\n",
            "Epoch 35: LearningRateScheduler setting learning rate to 0.00010000000000000003.\n",
            "Epoch 35/40\n",
            "12/12 [==============================] - ETA: 0s - loss: 0.5860 - accuracy: 0.9556 \n",
            "Epoch 35: val_accuracy did not improve from 0.93056\n",
            "12/12 [==============================] - 263s 22s/step - loss: 0.5860 - accuracy: 0.9556 - val_loss: 1.1316 - val_accuracy: 0.9278 - lr: 1.0000e-04\n",
            "\n",
            "Epoch 36: LearningRateScheduler setting learning rate to 0.00010000000000000003.\n",
            "Epoch 36/40\n",
            "12/12 [==============================] - ETA: 0s - loss: 0.5859 - accuracy: 0.9556 \n",
            "Epoch 36: val_accuracy did not improve from 0.93056\n",
            "12/12 [==============================] - 265s 22s/step - loss: 0.5859 - accuracy: 0.9556 - val_loss: 1.1315 - val_accuracy: 0.9278 - lr: 1.0000e-04\n",
            "\n",
            "Epoch 37: LearningRateScheduler setting learning rate to 0.00010000000000000003.\n",
            "Epoch 37/40\n",
            "12/12 [==============================] - ETA: 0s - loss: 0.5858 - accuracy: 0.9556 \n",
            "Epoch 37: val_accuracy did not improve from 0.93056\n",
            "12/12 [==============================] - 264s 22s/step - loss: 0.5858 - accuracy: 0.9556 - val_loss: 1.1311 - val_accuracy: 0.9278 - lr: 1.0000e-04\n",
            "\n",
            "Epoch 38: LearningRateScheduler setting learning rate to 0.00010000000000000003.\n",
            "Epoch 38/40\n",
            "12/12 [==============================] - ETA: 0s - loss: 0.5857 - accuracy: 0.9549 \n",
            "Epoch 38: val_accuracy did not improve from 0.93056\n",
            "12/12 [==============================] - 257s 22s/step - loss: 0.5857 - accuracy: 0.9549 - val_loss: 1.1311 - val_accuracy: 0.9278 - lr: 1.0000e-04\n",
            "\n",
            "Epoch 39: LearningRateScheduler setting learning rate to 0.00010000000000000003.\n",
            "Epoch 39/40\n",
            "12/12 [==============================] - ETA: 0s - loss: 0.5857 - accuracy: 0.9549 \n",
            "Epoch 39: val_accuracy did not improve from 0.93056\n",
            "12/12 [==============================] - 256s 22s/step - loss: 0.5857 - accuracy: 0.9549 - val_loss: 1.1309 - val_accuracy: 0.9278 - lr: 1.0000e-04\n",
            "\n",
            "Epoch 40: LearningRateScheduler setting learning rate to 0.00010000000000000003.\n",
            "Epoch 40/40\n",
            "12/12 [==============================] - ETA: 0s - loss: 0.5856 - accuracy: 0.9549 \n",
            "Epoch 40: val_accuracy did not improve from 0.93056\n",
            "12/12 [==============================] - 262s 22s/step - loss: 0.5856 - accuracy: 0.9549 - val_loss: 1.1304 - val_accuracy: 0.9278 - lr: 1.0000e-04\n"
          ]
        }
      ],
      "source": [
        "#Fitting the model\n",
        "\n",
        "th = TLmodel.fit(x_train, y_train, epochs = epochs, batch_size=batch_size,callbacks=callbacks, validation_data = (x_val, y_val), shuffle = True)"
      ]
    },
    {
      "cell_type": "code",
      "execution_count": null,
      "metadata": {
        "colab": {
          "base_uri": "https://localhost:8080/"
        },
        "id": "3bQn3rWXcDNe",
        "outputId": "2d4272e1-56bd-4d28-86c2-883aa67e0afe"
      },
      "outputs": [
        {
          "output_type": "stream",
          "name": "stdout",
          "text": [
            "7/7 [==============================] - 29s 4s/step - loss: 2.2182 - accuracy: 0.8600\n"
          ]
        },
        {
          "output_type": "execute_result",
          "data": {
            "text/plain": [
              "[2.2182183265686035, 0.8600000143051147]"
            ]
          },
          "metadata": {},
          "execution_count": 30
        }
      ],
      "source": [
        "#Evaluation on the test set\n",
        "\n",
        "TLmodel = load_model('/content/saved_models/vgg16_transferlearning.hdf5')\n",
        "TLmodel.evaluate(x_test, y_test)"
      ]
    },
    {
      "cell_type": "code",
      "execution_count": null,
      "metadata": {
        "colab": {
          "base_uri": "https://localhost:8080/",
          "height": 657
        },
        "id": "mCP2WRC9cMwK",
        "outputId": "7a0c2e1e-1301-4290-e7f8-1c97fa664340"
      },
      "outputs": [
        {
          "output_type": "display_data",
          "data": {
            "text/plain": [
              "<Figure size 864x360 with 1 Axes>"
            ],
            "image/png": "[encoded data removed]"
          },
          "metadata": {
            "needs_background": "light"
          }
        },
        {
          "output_type": "display_data",
          "data": {
            "text/plain": [
              "<Figure size 864x360 with 1 Axes>"
            ],
            "image/png": "[encoded data removed]"
          },
          "metadata": {
            "needs_background": "light"
          }
        }
      ],
      "source": [
        "#Display the Training & Validation plots\n",
        "\n",
        "plt.figure(figsize=(12, 5))\n",
        "plt.plot(th.history[\"accuracy\"], label = \"train_acc\")\n",
        "plt.plot(th.history[\"val_accuracy\"], label = \"val_acc\")\n",
        "plt.xlabel(\"Epochs\", fontsize = 12)\n",
        "plt.ylabel(\"Accuracy\", fontsize = 12)\n",
        "plt.xticks(range(epochs))\n",
        "plt.legend()\n",
        "\n",
        "plt.figure(figsize=(12, 5))\n",
        "plt.plot(th.history[\"loss\"], label = \"train_loss\")\n",
        "plt.plot(th.history[\"val_loss\"], label = \"val_loss\")\n",
        "plt.xlabel(\"Epochs\", fontsize = 12)\n",
        "plt.ylabel(\"Loss\", fontsize = 12)\n",
        "plt.xticks(range(epochs))\n",
        "plt.legend()\n",
        "\n",
        "plt.show()"
      ]
    }
  ],
  "metadata": {
    "colab": {
      "provenance": []
    },
    "kernelspec": {
      "display_name": "Python 3",
      "name": "python3"
    },
    "language_info": {
      "name": "python"
    }
  },
  "nbformat": 4,
  "nbformat_minor": 0
}